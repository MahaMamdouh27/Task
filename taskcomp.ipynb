{
 "cells": [
  {
   "cell_type": "code",
   "execution_count": 1,
   "id": "d38f24d6",
   "metadata": {},
   "outputs": [],
   "source": [
    "from pyopenms import *"
   ]
  },
  {
   "cell_type": "code",
   "execution_count": 2,
   "id": "d80344d8",
   "metadata": {},
   "outputs": [
    {
     "name": "stdout",
     "output_type": "stream",
     "text": [
      "387.2481710527\n"
     ]
    }
   ],
   "source": [
    "seq = AASequence.fromString(\"VAKA\")\n",
    "totalseq = seq.getMonoWeight()\n",
    "print(totalseq)"
   ]
  },
  {
   "cell_type": "code",
   "execution_count": 3,
   "id": "feb64517",
   "metadata": {},
   "outputs": [
    {
     "name": "stdout",
     "output_type": "stream",
     "text": [
      "441.2798662441\n"
     ]
    }
   ],
   "source": [
    "x=0\n",
    "for i in seq:\n",
    "    x=x+i.getMonoWeight()\n",
    "print(x)"
   ]
  },
  {
   "cell_type": "code",
   "execution_count": 5,
   "id": "bb2f5ea8",
   "metadata": {},
   "outputs": [
    {
     "name": "stdout",
     "output_type": "stream",
     "text": [
      "387.2481710527\n"
     ]
    }
   ],
   "source": [
    "w = EmpiricalFormula(\"H2O\")\n",
    "water = (w.getMonoWeight())*3\n",
    "print(x-weight_of_water)"
   ]
  },
  {
   "cell_type": "code",
   "execution_count": null,
   "id": "23fd85b3",
   "metadata": {},
   "outputs": [],
   "source": []
  }
 ],
 "metadata": {
  "kernelspec": {
   "display_name": "Python 3 (ipykernel)",
   "language": "python",
   "name": "python3"
  },
  "language_info": {
   "codemirror_mode": {
    "name": "ipython",
    "version": 3
   },
   "file_extension": ".py",
   "mimetype": "text/x-python",
   "name": "python",
   "nbconvert_exporter": "python",
   "pygments_lexer": "ipython3",
   "version": "3.9.7"
  }
 },
 "nbformat": 4,
 "nbformat_minor": 5
}
